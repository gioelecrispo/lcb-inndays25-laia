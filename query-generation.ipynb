{
 "cells": [
  {
   "cell_type": "markdown",
   "metadata": {},
   "source": [
    "# Query generation"
   ]
  },
  {
   "cell_type": "code",
   "execution_count": null,
   "metadata": {},
   "outputs": [],
   "source": [
    "%pip install chunkipy \n",
    "%pip install python-terrier\n",
    "%pip install pyterrier_pisa\n",
    "%pip install git+https://github.com/terrierteam/pyterrier_dr.git\n",
    "%pip install git+https://github.com/terrierteam/pyterrier_t5.git"
   ]
  },
  {
   "cell_type": "code",
   "execution_count": null,
   "metadata": {},
   "outputs": [],
   "source": [
    "import pandas as pd\n",
    "from pyterrier_doc2query import Doc2Query, QueryScorer, QueryFilter\n",
    "from pyterrier_dr import ElectraScorer"
   ]
  },
  {
   "cell_type": "code",
   "execution_count": null,
   "metadata": {},
   "outputs": [],
   "source": [
    "# create pandas df\n",
    "def append_queries(input_data):\n",
    "    for row in input_data:\n",
    "        row[\"querygen\"] = row[\"querygen\"].split(\"\\n\")\n"
   ]
  },
  {
   "cell_type": "markdown",
   "metadata": {},
   "source": [
    "### No ranking"
   ]
  },
  {
   "cell_type": "code",
   "execution_count": null,
   "metadata": {},
   "outputs": [],
   "source": [
    "doc2query = Doc2Query(num_samples=5)\n",
    "\n",
    "queries = doc2query([\n",
    "  {'docno': '0', 'text': 'The presence of communication amid scientific minds was equally important to the success of the Manhattan Project as scientific intellect was. The only cloud hanging over the impressive achievement of the atomic researchers and engineers is what their success truly meant; hundreds of thousands of innocent lives obliterated.'},\n",
    "  {'docno': '100', 'text': \"Antonín Dvorák (1841–1904) Antonin Dvorak was a son of butcher, but he did not follow his father's trade. While assisting his father part-time, he studied music, and graduated from the Prague Organ School in 1859.\"},\n",
    "  {'docno': '1000', 'text': 'QuickFacts Matanuska-Susitna Borough, Alaska; UNITED STATES QuickFacts provides statistics for all states and counties, and for cities and towns with a population of 5,000 or more.'},\n",
    "])\n",
    "\n",
    "append_queries(queries)\n",
    "queries"
   ]
  },
  {
   "cell_type": "code",
   "execution_count": null,
   "metadata": {},
   "outputs": [],
   "source": []
  },
  {
   "cell_type": "markdown",
   "metadata": {},
   "source": [
    "### Ranking"
   ]
  },
  {
   "cell_type": "code",
   "execution_count": null,
   "metadata": {},
   "outputs": [],
   "source": [
    "doc2query = Doc2Query(num_samples=5)\n",
    "scorer = ElectraScorer()\n",
    "\n",
    "# inspection\n",
    "pipeline = doc2query >> QueryScorer(scorer) #>> QueryFilter(append=False, t=3.21484375) # 30% electra filter\n",
    "\n",
    "queries = pipeline([\n",
    "  {'doc_id': '0', 'p':\"e\", 'text': 'The presence of communication amid scientific minds was equally important to the success of the Manhattan Project as scientific intellect was. The only cloud hanging over the impressive achievement of the atomic researchers and engineers is what their success truly meant; hundreds of thousands of innocent lives obliterated.'},\n",
    "  {'doc_id': '100', 'text': \"Antonín Dvorák (1841–1904) Antonin Dvorak was a son of butcher, but he did not follow his father's trade. While assisting his father part-time, he studied music, and graduated from the Prague Organ School in 1859.\"},\n",
    "  {'doc_id': '1000', 'text': 'QuickFacts Matanuska-Susitna Borough, Alaska; UNITED STATES QuickFacts provides statistics for all states and counties, and for cities and towns with a population of 5,000 or more.'},\n",
    "])\n",
    "append_queries(queries)\n",
    "queries"
   ]
  },
  {
   "cell_type": "markdown",
   "metadata": {},
   "source": [
    "## Process to batches"
   ]
  },
  {
   "cell_type": "code",
   "execution_count": null,
   "metadata": {},
   "outputs": [],
   "source": [
    "import json\n",
    "import os\n",
    "\n",
    "def list_all_files(directory):\n",
    "    file_list = []\n",
    "    for root, dirs, files in os.walk(directory):\n",
    "        for file in files:\n",
    "            file_list.append(os.path.join(root, file))\n",
    "    return file_list\n",
    "\n",
    "def batch_processing(batch, pipeline):\n",
    "\n",
    "    # generate queries\n",
    "    queries = pipeline(batch)\n",
    "\n",
    "    # modify data structure\n",
    "    for query in queries:\n",
    "        if \"querygen_score\" in query:\n",
    "            query[\"querygen_score\"] = [str(num) for num in query[\"querygen_score\"]]\n",
    "    append_queries(queries)       \n",
    "\n",
    "    return queries\n",
    "\n",
    "def process(input_data_path, output_data_path, pipeline, batch_size):\n",
    "\n",
    "    # list all docs\n",
    "    docs = list_all_files(input_data_path)\n",
    "    \n",
    "    n_batches = len(docs) // batch_size + 1 * ( len(docs) % batch_size > 0 )\n",
    "\n",
    "    print(f\"Total number of docs: {len(docs)}\")\n",
    "\n",
    "    destination_files = list_all_files(output_data_path)\n",
    "\n",
    "    batch_num = 1\n",
    "    for i in range(0, len(docs), batch_size):\n",
    "\n",
    "        # check if batch already processed\n",
    "        if f\"{output_data_path}/batch_{batch_num}.json\" in destination_files:\n",
    "            continue\n",
    "\n",
    "\n",
    "        files_batch = []\n",
    "\n",
    "        for file in docs[i:i+batch_size]:\n",
    "            # Open and read the JSON file\n",
    "            with open(file, 'r') as file_n:\n",
    "                files_batch.append(json.load(file_n))\n",
    "\n",
    "        docs_batch = []\n",
    "\n",
    "        for file in files_batch:\n",
    "            doc = {\n",
    "                \"id\":f\"{file['docId']}__{file['chunk_index']}\",\n",
    "                \"doc_id\": file[\"docId\"],\n",
    "                \"chunk_id\": file[\"chunk_index\"],\n",
    "                \"document_category\": file[\"document_category\"],\n",
    "                \"text\": file[\"chunk_text\"]\n",
    "            }\n",
    "            docs_batch.append(doc)\n",
    "        \n",
    "        # process batch\n",
    "        batch_queries = batch_processing(docs_batch, pipeline)\n",
    "\n",
    "        # save batch\n",
    "        with open(f\"{output_data_path}/batch_{batch_num}.json\", \"w\") as outfile:\n",
    "            json.dump(batch_queries, outfile, indent=2)\n",
    "        \n",
    "        print(f\"Batch processed : {batch_num} / {n_batches}\")\n",
    "        batch_num += 1\n",
    "\n",
    "    "
   ]
  },
  {
   "cell_type": "code",
   "execution_count": null,
   "metadata": {},
   "outputs": [],
   "source": [
    "INPUT_DATA_PATH = \"./chunks\"\n",
    "OUTPUT_DATA_PATH = \"./queries\"\n",
    "BATCH_SIZE = 32 # DO NOT CHANGE AFTER FIRST RUN\n",
    "N_QUERIES = 3\n",
    "\n",
    "# pipeline\n",
    "doc2query = Doc2Query(num_samples=N_QUERIES)\n",
    "scorer = ElectraScorer()\n",
    "\n",
    "# inspection\n",
    "pipeline = doc2query >> QueryScorer(scorer)\n",
    "\n",
    "process(INPUT_DATA_PATH, OUTPUT_DATA_PATH, pipeline, BATCH_SIZE)"
   ]
  }
 ],
 "metadata": {
  "kernelspec": {
   "display_name": ".venv",
   "language": "python",
   "name": "python3"
  },
  "language_info": {
   "codemirror_mode": {
    "name": "ipython",
    "version": 3
   },
   "file_extension": ".py",
   "mimetype": "text/x-python",
   "name": "python",
   "nbconvert_exporter": "python",
   "pygments_lexer": "ipython3",
   "version": "3.9.5"
  }
 },
 "nbformat": 4,
 "nbformat_minor": 2
}
