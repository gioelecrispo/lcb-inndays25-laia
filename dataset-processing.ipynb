{
 "cells": [
  {
   "cell_type": "markdown",
   "metadata": {},
   "source": [
    "# Processing dataset -- Chunking"
   ]
  },
  {
   "cell_type": "code",
   "execution_count": 24,
   "metadata": {},
   "outputs": [],
   "source": [
    "import lzma\n",
    "import json\n",
    "import pandas\n",
    "from chunkipy import TextChunker, TokenEstimator\n",
    "import os"
   ]
  },
  {
   "cell_type": "code",
   "execution_count": 26,
   "metadata": {},
   "outputs": [
    {
     "name": "stdout",
     "output_type": "stream",
     "text": [
      "Loaded 100 documents.\n",
      "First document preview: {'url': 'https://www.justice.gov/d9/2022-11/interagency_veterans_resource_0.pdf', 'text': 'Protections Against Employment Discrimination for Service Members\\nand Veterans\\nJointly Authored By:\\nU.S. Department of Labor Office of Federal Contract Compliance Programs (OFCCP)\\nU.S. Department of Labor Veterans’ Employment and Training Service (VETS)\\nU.S. Department of Justice Civil Rights Division (CRT)\\nU.S. Equal Employment Opportunity Commission (EEOC)\\nService members and veterans have made great sacrifices to guarantee the freedoms and\\nliberties that all Americans enjoy. And service members and veterans themselves are also\\nguaranteed rights, such as the right to be free from discrimination in civilian employment. This\\ndocument helps explain where to get help if you are a service member or veteran and you feel\\nthat you have been discriminated against in employment because of your military status,\\nveteran status, or another protected basis.\\nVeterans and Service Members are Protected Against Employment Discrimination\\nTwo federal laws prohibit discrimination in employment based on your status as a service\\nmember or veteran:\\n•\\n\\n•\\n\\nThe Uniformed Services Employment and Reemployment Rights Act (USERRA)\\nprohibits civilian employers from discriminating against you based on your present, past,\\nand future military service. It also entitles service members, such as National Guard\\nmembers and reservists, who leave their civilian employment to perform covered\\nmilitary service to prompt reemployment with their pre-service employer following the\\ncompletion of their duty. This means that service members who meet the eligibility\\ncriteria for reinstatement must be promptly reemployed with their pre-service\\nemployers with the seniority, status, and rate of pay that they would have obtained with\\nreasonable certainty had they remained continuously employed.\\nThe Vietnam Era Veterans’ Readjustment Assistance Act of 1974 (VEVRAA) prohibits\\nfederal contractors and subcontractors from discriminating in employment against\\nprotected veterans and requires employers take affirmative action to recruit, hire,\\npromote, and retain these individuals. This protection against discrimination extends\\nnot only to spouses, but also to other individuals that the contractor knows have a\\nrelationship or association with a protected veteran.\\n\\nAdditional federal laws prohibit employment discrimination against applicants and employees\\nfor other reasons that veterans and service members may face, including:\\n•\\n\\nThe Americans with Disabilities Act of 1990 makes it illegal for employers to\\ndiscriminate against qualified job applicants and employees based on their physical or\\nmental disabilities, including failing to provide a reasonable accommodation to a\\n1\\n\\n\\x0c•\\n\\n•\\n•\\n•\\n•\\n•\\n•\\n\\nqualified employee or applicant. Section 501 of the Rehabilitation Act of 1973 applies\\nthe same standards to federal agency employers.\\nSection 503 of the Rehabilitation Act of 1973 prohibits federal contractors and\\nsubcontractors from discriminating in employment against individuals with disabilities,\\nincluding failing to provide a reasonable accommodation to a qualified employee or\\napplicant. It also requires employers to take affirmative action to recruit, hire, promote,\\nand retain these individuals.\\nTitle VII of the Civil Rights Act of 1964 prohibits discrimination based on race, color,\\nnational origin, sex (including pregnancy, sexual orientation, and gender identity), and\\nreligion.\\nThe Equal Pay Act of 1963 requires that men and women in the same workplace be\\ngiven equal pay for equal work.\\nThe Age Discrimination in Employment Act of 1967 protects people who are 40 or older\\nfrom discrimination because of age.\\nThe Genetic Information Nondiscrimination Act of 2008 prohibits discrimination based\\non genetic information (which includes family medical history).\\nThe Immigration and Nationality Act’s Anti-Discrimination Provision prohibits\\ndiscrimination based on citizenship, immigration status, and national origin (for certain\\nemployers not covered under Title VII).\\nExecutive Order 11246 prohibits federal contractors and subcontractors from\\ndiscriminating on the basis of race, color, religion, sex, sexual orientation, gender\\nidentity, or national origin and requires affirmative action to promote equal\\nopportunity. Contractors also are prohibited from discriminating against applicants or\\nemployees because they inquire about, discuss, or disclose their compensation or that\\nof others, subject to certain limitations.\\n\\nEmployers are also prohibited from retaliating against you, for example threatening to withhold\\na promotion or firing you, for asserting your rights under these laws or otherwise participating\\nin protected activity. Examples of protected activity include filing a complaint or participating\\nin an investigation.\\nDo You Qualify for USERRA’s Reemployment Rights?\\nTo qualify for USERRA’s reemployment rights, you must be a service member and generally\\nmeet the following eligibility criteria:\\n•\\n•\\n•\\n•\\n\\nYou must have left a civilian job to perform covered service;\\nYou must have given notice to the employer that you were leaving to perform military\\nservice (orally or in writing);\\nYou have had five years or less of cumulative service with the covered employer\\n(although there are a number of exceptions to this rule);\\nYou must not have a disqualifying discharge (dishonorable, other than honorable, or bad\\nconduct); and\\n2\\n\\n\\x0c•\\n\\nYou must have reported back to work within the appropriate time constraints (which\\nare dependent on the time spent on covered military service).\\n\\nMore information on who qualifies for USERRA protections can be found on the VETS and CRT\\nwebpages.\\nHow Do You Assert Your Rights Under USERRA?\\nYou can seek assistance for enforcing your rights under USERRA with the federal government,\\nor by filing a lawsuit directly in court with your own lawyer.\\nVETS investigates and resolves complaints of USERRA violations. For assistance in filing a\\ncomplaint, or for other information on USERRA, visit the VETS website. Use an interactive\\nonline USERRA Advisor.\\nIf you file a complaint with VETS and the agency is unable to resolve the matter to your\\nsatisfaction, you may request that your case be referred to the Department of Justice or the\\nOffice of Special Counsel, as applicable, for representation.\\nCRT has authority to bring lawsuits against private, state, and local government employers for\\nviolations of USERRA but only upon receiving complaint referrals from VETS. If CRT lawyers are\\nreasonably satisfied that the service member is entitled to relief after receiving a referral, CRT\\nmay commence an action in federal court.\\nPlease note that CRT may not be able to bring a lawsuit in every case that is referred to it but\\nreviews every referral carefully. For more information, please see the Department of Justice’s\\nServicemembers and Veterans Initiative webpage.\\nDo You Qualify as a “Protected Veteran” Under VEVRAA?\\nUnder VEVRAA, if you served active duty in the U.S. military and were discharged or released\\nfor reasons other than dishonorable you may be a protected veteran in one or more of the\\nfollowing categories:\\n• Disabled veterans\\n• Recently separated veterans\\n• Active duty wartime or campaign badge veterans\\n• Armed Forces service medal veterans\\nMore information on VEVRAA protections is located on the OFCCP VEVRAA website. OFCCP’s\\nInfographic includes information on who qualifies as a protected veteran.\\n\\n3\\n\\n\\x0cHow do You Assert Your Rights Under VEVRAA?\\nYou can file a complaint with OFCCP if you believe your rights as a worker have been violated or\\nif you believe a federal contractor has been discriminatory in its practices. OFCCP is committed\\nto workers’ rights and will investigate complaints filed against federal contractors.\\nLearn more about filing a complaint with OFCCP. You can also find additional information on\\nprotected veterans’ rights on the DOL site and on worker.gov.\\nWhich Agency Should You Contact for Assistance with Employment Discrimination on Other\\nBases?\\nContact the EEOC if you believe you have been discriminated against by an employer, labor\\nunion, or employment agency as an employee or applicant because of your race, color, national\\norigin, sex (including pregnancy, sexual orientation, or gender identity), religion, age (over 40\\nyears old), disability, genetic information, or in retaliation for opposing a prohibited practice or\\nparticipating in an equal employment opportunity matter.\\nContact OFCCP if you believe that you have been discriminated against by an employer doing\\nbusiness with the Federal Government based on race, color, religion, sex, sexual orientation,\\ngender identity, national origin, or disability. You can also contact OFCCP if you asked about or\\ndiscussed your pay or that of a co-worker and you were fired, demoted, or disciplined because\\nof it.\\nContact CRT’s Immigrant and Employee Rights Section if you believe that you have been\\ndiscriminated against by an employer because of your citizenship, immigration status, or\\nnational origin.\\nDo You File a Charge or Complaint Alleging Discrimination with EEOC or OFCCP?\\nContact EEOC to file a charge if you believe you have been discriminated against, harassed, or\\nsubjected to retaliation by an employer. Most of the laws enforced by EEOC require you to file\\na charge before you can file a discrimination lawsuit. In addition, an individual, organization, or\\nagency may file a charge on your behalf in order to protect your identity. EEOC’s website\\nprovides more information on filing a charge, including links to its online public portal and\\nimportant time limits. Federal employees and job applicants have similar protections but\\nfollow a different complaint process.\\nContact OFCCP to file a complaint if you believe your rights as a worker have been violated or if\\nyou believe a federal contractor has been discriminatory in its practices. OFCCP is committed to\\nworkers’ rights and will investigate complaints filed against federal contractors. OFCCP’s\\nwebsite provides more information on filing a complaint.\\n\\n4\\n\\n\\x0cCRT works with the EEOC and OFCCP to enforce laws such as Title VII, the Americans with\\nDisabilities Act, and the Genetic Information Nondiscrimination Act. The EEOC and OFCCP may\\nrefer certain charges of discrimination to CRT for enforcement, including where the employer is\\na state or local government entity.\\nOther CRT-DOL-EEOC Resources for Protecting the Rights of Veterans and Service Members\\nCRT’s Servicemembers and Veterans Initiative website has more information about other rights\\nand protections, including those related to finance and housing, voting, consumer protection,\\ndisability status, and more. You can also contact CRT to submit a report if you believe your civil\\nrights, or someone else’s, have been violated.\\nOFCCP’s website contains information about programs that provide services and support to\\nveterans and their families addressing employment, education, housing, medical, and other\\ntopics. VEVRAA also requires federal contractors and subcontractors to take affirmative action\\nto recruit, hire, promote, and retain veterans. Learn more about VEVRAA compliance\\nassistance.\\nVETS’s website includes additional resources for veterans and military spouses, including offbase transition training, information on apprenticeship and the civilian transition, and veteran\\nunemployment rate information. The Department of Labor also provides more information on\\nits veterans employment website.\\nEEOC’s website provides more information for veterans with disabilities, including a resource\\ndocument that helps explain your workplace rights and responsibilities. Find additional\\ninformation on the Americans with Disabilities Act and mental health conditions.\\n\\n5\\n\\n\\x0c', 'downloaded_timestamp': '01-06-2023', 'created_timestamp': ''}\n"
     ]
    }
   ],
   "source": [
    "file_path = \"data/train.doj_guidance.jsonl.xz\"\n",
    "\n",
    "docs = []\n",
    "with lzma.open(file_path, \"rt\", encoding=\"utf-8\") as f:\n",
    "    for i, line in enumerate(f):\n",
    "        if i >= 100:\n",
    "            break\n",
    "        docs.append(json.loads(line))\n",
    "\n",
    "print(f\"Loaded {len(docs)} documents.\")\n",
    "print(\"First document preview:\", docs[0])"
   ]
  },
  {
   "cell_type": "code",
   "execution_count": 27,
   "metadata": {},
   "outputs": [
    {
     "name": "stdout",
     "output_type": "stream",
     "text": [
      "dict_keys(['url', 'text', 'downloaded_timestamp', 'created_timestamp'])\n"
     ]
    }
   ],
   "source": [
    "# Print the keys (fields) of the first document\n",
    "print(docs[0].keys())"
   ]
  },
  {
   "cell_type": "code",
   "execution_count": 33,
   "metadata": {},
   "outputs": [],
   "source": [
    "def chunk_and_save(text, chunk_size, tokens, overlap_percent, docId, output_dir=\"resources/data/chunks/guidance\"):\n",
    "    \"\"\"\n",
    "    Splits the input text into overlapping chunks and saves each chunk as a JSON file.\n",
    "\n",
    "    Args:\n",
    "        text (str): The text to be chunked.\n",
    "        chunk_size (int): The size of each chunk.\n",
    "        tokens (bool): Whether to chunk by tokens.\n",
    "        overlap_percent (float): Percentage of overlap between chunks.\n",
    "        document_name (str): Name of the original document.\n",
    "        output_dir (str): Directory to save the chunk files.\n",
    "    \"\"\"\n",
    "    os.makedirs(output_dir, exist_ok=True)\n",
    "    text_chunker = TextChunker(chunk_size, tokens=tokens, overlap_percent=overlap_percent)\n",
    "    chunks = text_chunker.chunk(text)\n",
    "    for i, chunk in enumerate(chunks):\n",
    "        chunk_data = {\n",
    "            \"document_category\": \"guidance\", #change here\n",
    "            \"docId\": docId,\n",
    "            \"chunk_index\": i + 1,\n",
    "            \"chunk_text\": chunk\n",
    "        }\n",
    "        chunk_filename = f\"{docId}_chunk_{i + 1}.json\"\n",
    "        chunk_path = os.path.join(output_dir, chunk_filename)\n",
    "        with open(chunk_path, \"w\", encoding=\"utf-8\") as f:\n",
    "            json.dump(chunk_data, f, ensure_ascii=False, indent=2)\n",
    "        print(f\"Saved {chunk_filename} ({len(chunk)} chunk characters)\")"
   ]
  },
  {
   "cell_type": "code",
   "execution_count": null,
   "metadata": {},
   "outputs": [
    {
     "name": "stdout",
     "output_type": "stream",
     "text": [
      "Saved guidance_0_chunk_1.json (3747 chunk characters)\n",
      "Saved guidance_0_chunk_2.json (3370 chunk characters)\n",
      "Saved guidance_0_chunk_3.json (3343 chunk characters)\n",
      "Saved guidance_0_chunk_4.json (2022 chunk characters)\n",
      "--------------\n"
     ]
    }
   ],
   "source": [
    "#loop over docs\n",
    "for idx, doc in enumerate(docs):\n",
    "    url = doc['url']\n",
    "    docId = \"guidance_\"+str(idx)\n",
    "    chunk_and_save(doc['text'], chunk_size=500, tokens=True, overlap_percent=0.1, docId=docId, output_dir= \"resources/data/chunks/guidance\")\n",
    "    print(\"--------------\")"
   ]
  },
  {
   "cell_type": "code",
   "execution_count": null,
   "metadata": {},
   "outputs": [],
   "source": []
  }
 ],
 "metadata": {
  "kernelspec": {
   "display_name": "lcb-env",
   "language": "python",
   "name": "python3"
  },
  "language_info": {
   "codemirror_mode": {
    "name": "ipython",
    "version": 3
   },
   "file_extension": ".py",
   "mimetype": "text/x-python",
   "name": "python",
   "nbconvert_exporter": "python",
   "pygments_lexer": "ipython3",
   "version": "3.11.11"
  }
 },
 "nbformat": 4,
 "nbformat_minor": 2
}
